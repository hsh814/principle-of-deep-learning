{
  "cells": [
    {
      "attachments": {},
      "cell_type": "markdown",
      "metadata": {},
      "source": [
        "Code from https://github.com/xprathamesh/Spoiler-Detection-in-Movie-Reviews/blob/master/MaLSTM-Spoiler-Detection.ipynb\n",
        "\n",
        "[Siamese Recurrent Architectures for Learning Sentence Similarity](https://doi.org/10.1609/aaai.v30i1.10350)"
      ]
    },
    {
      "cell_type": "code",
      "execution_count": 1,
      "metadata": {},
      "outputs": [],
      "source": [
        "# from google.colab import drive\n",
        "# drive.mount('/content/drive')"
      ]
    },
    {
      "cell_type": "code",
      "execution_count": 2,
      "metadata": {
        "execution": {
          "iopub.execute_input": "2023-05-07T05:18:20.533171Z",
          "iopub.status.busy": "2023-05-07T05:18:20.531890Z",
          "iopub.status.idle": "2023-05-07T05:18:32.494018Z",
          "shell.execute_reply": "2023-05-07T05:18:32.492538Z",
          "shell.execute_reply.started": "2023-05-07T05:18:20.533108Z"
        },
        "id": "Bd8a6g1b7cYn",
        "trusted": true
      },
      "outputs": [
        {
          "name": "stderr",
          "output_type": "stream",
          "text": [
            "2023-05-08 08:09:29.926763: I tensorflow/core/platform/cpu_feature_guard.cc:193] This TensorFlow binary is optimized with oneAPI Deep Neural Network Library (oneDNN) to use the following CPU instructions in performance-critical operations:  SSE4.1 SSE4.2 AVX AVX2 FMA\n",
            "To enable them in other operations, rebuild TensorFlow with the appropriate compiler flags.\n"
          ]
        }
      ],
      "source": [
        "import os, datetime, argparse, csv, itertools, random\n",
        "from sys import exit\n",
        "import nltk, tensorflow\n",
        "\n",
        "import pandas as pd\n",
        "import numpy as np\n",
        "\n",
        "from math import exp\n",
        "import re\n",
        "from re import sub\n",
        "from time import time\n",
        "from random import shuffle\n",
        "\n",
        "from gensim.models import KeyedVectors\n",
        "from nltk.corpus import stopwords\n",
        "\n",
        "import matplotlib\n",
        "import matplotlib.pyplot as plt\n",
        "import tkinter\n",
        "\n",
        "import tensorflow as tf\n",
        "from tensorflow.keras.preprocessing.text import Tokenizer\n",
        "from tensorflow.keras.preprocessing.sequence import pad_sequences\n",
        "from tensorflow.keras.layers import Input, Embedding, LSTM, GRU, Bidirectional, Dense, Dropout, Concatenate, Lambda, concatenate\n",
        "from tensorflow.keras.models import Model\n",
        "\n",
        "from sklearn.model_selection import train_test_split\n",
        "from sklearn.metrics import classification_report\n",
        "\n",
        "import keras\n",
        "import keras.backend as K\n",
        "from keras.optimizers import Adadelta, Adam\n",
        "from keras.callbacks import ModelCheckpoint, EarlyStopping"
      ]
    },
    {
      "cell_type": "code",
      "execution_count": 3,
      "metadata": {},
      "outputs": [
        {
          "data": {
            "text/plain": [
              "True"
            ]
          },
          "execution_count": 3,
          "metadata": {},
          "output_type": "execute_result"
        }
      ],
      "source": [
        "tensorflow.test.is_built_with_cuda()"
      ]
    },
    {
      "cell_type": "code",
      "execution_count": 4,
      "metadata": {
        "id": "0vjFC0evNBso"
      },
      "outputs": [],
      "source": [
        "# Unzip dataset https://www.kaggle.com/datasets/rmisra/imdb-spoiler-dataset\n",
        "# !unzip /content/drive/MyDrive/UNIST/deep-learning/imdb-spoiler-dataset.zip -d /content/data"
      ]
    },
    {
      "cell_type": "code",
      "execution_count": 5,
      "metadata": {},
      "outputs": [],
      "source": [
        "# files\n",
        "preprocessed_file = '/root/lstm/data/preprocessed.csv'\n",
        "review_file = '/root/lstm/data/IMDB_reviews.json'\n",
        "movie_file = '/root/lstm/data/IMDB_movie_details.json'\n",
        "# https://drive.google.com/file/d/0B7XkCwpI5KDYNlNUTTlSS21pQmM/edit?resourcekey=0-wjGZdNAUop6WykTtMip30g\n",
        "google_embeddings = '/root/lstm/GoogleNews-vectors-negative300.bin.gz'\n",
        "ckpt_filepath = '/root/lstm/saved_models_manhtn/lr1-san-adam--{epoch:02d}-{val_loss:.5f}.hdf5'\n",
        "\n",
        "# files in colab\n",
        "# preprocessed_file = '/content/drive/MyDrive/UNIST/deep-learning/preprocessed.csv'\n",
        "# review_file = '/content/data/IMDB_reviews.json'\n",
        "# movie_file = '/content/data/IMDB_movie_details.json'\n",
        "# # https://drive.google.com/file/d/0B7XkCwpI5KDYNlNUTTlSS21pQmM/edit?resourcekey=0-wjGZdNAUop6WykTtMip30g\n",
        "# google_embeddings = '/content/drive/MyDrive/UNIST/deep-learning/GoogleNews-vectors-negative300.bin.gz'\n",
        "# ckpt_filepath = '/content/drive/My Drive/Colab Notebooks/saved_models_manhtn/lr1-san-adam--{epoch:02d}-{val_loss:.5f}.hdf5'"
      ]
    },
    {
      "cell_type": "code",
      "execution_count": 6,
      "metadata": {
        "_kg_hide-output": true,
        "colab": {
          "base_uri": "https://localhost:8080/"
        },
        "execution": {
          "iopub.execute_input": "2023-05-07T05:18:32.511099Z",
          "iopub.status.busy": "2023-05-07T05:18:32.510739Z",
          "iopub.status.idle": "2023-05-07T05:18:52.929463Z",
          "shell.execute_reply": "2023-05-07T05:18:52.927932Z",
          "shell.execute_reply.started": "2023-05-07T05:18:32.511066Z"
        },
        "id": "2qkJqQ9H7cYo",
        "outputId": "2a04c228-f844-4504-feab-fe3de9dc939e",
        "trusted": true
      },
      "outputs": [
        {
          "name": "stderr",
          "output_type": "stream",
          "text": [
            "[nltk_data] Downloading package stopwords to /root/nltk_data...\n",
            "[nltk_data]   Package stopwords is already up-to-date!\n"
          ]
        }
      ],
      "source": [
        "# Load data\n",
        "nltk.download('stopwords')\n",
        "if not os.path.exists(preprocessed_file):\n",
        "    review_data = pd.read_json(review_file, lines = True)\n",
        "    review_data.head()\n",
        "    movie_data = pd.read_json(movie_file, lines = True)\n",
        "    movie_map = dict()\n",
        "    # movie_list = movie_data.\n",
        "    movie_synopses = pd.Series([str(synopsis) for synopsis in movie_data['plot_synopsis']])\n",
        "    movie_summary = pd.Series([re.split('\\s*Written by\\s*\\n', \n",
        "                                          str(plot))[0] for plot in movie_data['plot_summary']])\n",
        "    movie_info = pd.Series([movie_synopses[i] \\\n",
        "                                        if len(movie_synopses[i]) > len(movie_summary[i]) else movie_summary[i] \\\n",
        "                                        for i in range(len(movie_synopses))])\n",
        "    movie_ids = pd.Series(movie_data['movie_id'])\n",
        "    movie_data.head()\n",
        "    m_info = list(movie_info)\n",
        "    m_ids = list(movie_ids)\n",
        "    for minfo, mid in zip(m_info, m_ids):\n",
        "        movie_map[str(mid)] = minfo\n",
        "    tmp_list = list()\n",
        "    for movie_id in list(review_data[\"movie_id\"]):\n",
        "        if movie_id not in movie_map:\n",
        "            print(f\"{movie_id} not in map\")\n",
        "            tmp_list.append(\"No synopsis\")\n",
        "            continue\n",
        "        movie_info = movie_map[str(movie_id)]\n",
        "        tmp_list.append(movie_info)\n",
        "    input_data = pd.DataFrame({\"review\": review_data[\"review_text\"], \"synopsis\": tmp_list, 'label': review_data[\"is_spoiler\"]})\n",
        "    input_data.to_csv(preprocessed_file, index=False)\n",
        "    input_data.head()"
      ]
    },
    {
      "cell_type": "code",
      "execution_count": 7,
      "metadata": {
        "_kg_hide-output": true,
        "execution": {
          "iopub.execute_input": "2023-05-07T05:48:05.961240Z",
          "iopub.status.busy": "2023-05-07T05:48:05.960595Z",
          "iopub.status.idle": "2023-05-07T05:48:06.159245Z",
          "shell.execute_reply": "2023-05-07T05:48:06.157838Z",
          "shell.execute_reply.started": "2023-05-07T05:48:05.961194Z"
        },
        "id": "OG04COHD7cYz",
        "trusted": true
      },
      "outputs": [],
      "source": [
        "# rows_count  = 300000\n",
        "rows_count  = 600000\n",
        "test_ratio  = 0.80 # divide into train and test data\n",
        "train_ratio = 0.90 # divide into train and validation data\n",
        "random_state = 200\n",
        "max_len     = 1024\n",
        "vocab_size  = 1\n",
        "vocab_limit = None\n",
        "\n",
        "sequence_cols = ['synopsis', 'review']\n",
        "score_col     = ['label']\n",
        "\n",
        "x_train, y_train  = list(), list()\n",
        "x_val, y_val      = list(), list()\n",
        "x_test, y_test    = list(), list()\n",
        "\n",
        "vocab       = set('PAD')\n",
        "word_to_id  = {'PAD':0}\n",
        "id_to_word  = {0:'PAD'}\n",
        "\n",
        "word_to_count = dict()"
      ]
    },
    {
      "cell_type": "code",
      "execution_count": 8,
      "metadata": {
        "colab": {
          "base_uri": "https://localhost:8080/",
          "height": 206
        },
        "execution": {
          "iopub.execute_input": "2023-05-07T05:20:11.333137Z",
          "iopub.status.busy": "2023-05-07T05:20:11.332103Z",
          "iopub.status.idle": "2023-05-07T05:20:11.401968Z",
          "shell.execute_reply": "2023-05-07T05:20:11.400538Z",
          "shell.execute_reply.started": "2023-05-07T05:20:11.332985Z"
        },
        "id": "8U371hoQ7cYp",
        "outputId": "0fef1904-1b8d-4975-eaa9-815f0b58bc3b",
        "trusted": true
      },
      "outputs": [
        {
          "name": "stdout",
          "output_type": "stream",
          "text": [
            "len: 103304\n"
          ]
        },
        {
          "data": {
            "text/html": [
              "<div>\n",
              "<style scoped>\n",
              "    .dataframe tbody tr th:only-of-type {\n",
              "        vertical-align: middle;\n",
              "    }\n",
              "\n",
              "    .dataframe tbody tr th {\n",
              "        vertical-align: top;\n",
              "    }\n",
              "\n",
              "    .dataframe thead th {\n",
              "        text-align: right;\n",
              "    }\n",
              "</style>\n",
              "<table border=\"1\" class=\"dataframe\">\n",
              "  <thead>\n",
              "    <tr style=\"text-align: right;\">\n",
              "      <th></th>\n",
              "      <th>review</th>\n",
              "      <th>synopsis</th>\n",
              "      <th>label</th>\n",
              "    </tr>\n",
              "  </thead>\n",
              "  <tbody>\n",
              "    <tr>\n",
              "      <th>236704</th>\n",
              "      <td>Once again Fake Crap Hollywood makes a movie w...</td>\n",
              "      <td>In the year 2007, young Reed Richards does a p...</td>\n",
              "      <td>True</td>\n",
              "    </tr>\n",
              "    <tr>\n",
              "      <th>450968</th>\n",
              "      <td>I feel that this is a worthwhile film that has...</td>\n",
              "      <td>Slumdog Millionaire is the story of Jamal Mali...</td>\n",
              "      <td>True</td>\n",
              "    </tr>\n",
              "    <tr>\n",
              "      <th>363097</th>\n",
              "      <td>The Aviator is below many films that Martin Sc...</td>\n",
              "      <td>The Aviator has no opening credits other than ...</td>\n",
              "      <td>False</td>\n",
              "    </tr>\n",
              "    <tr>\n",
              "      <th>275056</th>\n",
              "      <td>As an old fan of the comics, I have to say tha...</td>\n",
              "      <td>In Congress, Senator Robert Kelly attempts to ...</td>\n",
              "      <td>False</td>\n",
              "    </tr>\n",
              "    <tr>\n",
              "      <th>204606</th>\n",
              "      <td>i cannot easily compose all my thoughts and fe...</td>\n",
              "      <td>The third Hobbit film picks up shortly after t...</td>\n",
              "      <td>True</td>\n",
              "    </tr>\n",
              "  </tbody>\n",
              "</table>\n",
              "</div>"
            ],
            "text/plain": [
              "                                                   review  \\\n",
              "236704  Once again Fake Crap Hollywood makes a movie w...   \n",
              "450968  I feel that this is a worthwhile film that has...   \n",
              "363097  The Aviator is below many films that Martin Sc...   \n",
              "275056  As an old fan of the comics, I have to say tha...   \n",
              "204606  i cannot easily compose all my thoughts and fe...   \n",
              "\n",
              "                                                 synopsis  label  \n",
              "236704  In the year 2007, young Reed Richards does a p...   True  \n",
              "450968  Slumdog Millionaire is the story of Jamal Mali...   True  \n",
              "363097  The Aviator has no opening credits other than ...  False  \n",
              "275056  In Congress, Senator Robert Kelly attempts to ...  False  \n",
              "204606  The third Hobbit film picks up shortly after t...   True  "
            ]
          },
          "execution_count": 8,
          "metadata": {},
          "output_type": "execute_result"
        }
      ],
      "source": [
        "data_df = pd.read_csv(preprocessed_file, nrows=rows_count)\n",
        "data_df = data_df.sample(frac=0.18, random_state=random_state)\n",
        "print(f\"len: {len(data_df)}\")\n",
        "data_df.head()"
      ]
    },
    {
      "cell_type": "code",
      "execution_count": 9,
      "metadata": {
        "id": "Ug07H2DIAskH"
      },
      "outputs": [],
      "source": [
        "def text_to_word_list(text):\n",
        "  ''' Pre process and convert texts to a list of words '''\n",
        "  text = str(text)\n",
        "  text = text.lower()\n",
        "\n",
        "  # Clean the text\n",
        "  text = sub(r\"[^A-Za-z0-9^,!.\\/'+-=]\", \" \", text)\n",
        "  text = sub(r\"what's\", \"what is \", text)\n",
        "  text = sub(r\"\\'s\", \" \", text)\n",
        "  text = sub(r\"\\'ve\", \" have \", text)\n",
        "  text = sub(r\"can't\", \"cannot \", text)\n",
        "  text = sub(r\"n't\", \" not \", text)\n",
        "  text = sub(r\"i'm\", \"i am \", text)\n",
        "  text = sub(r\"\\'re\", \" are \", text)\n",
        "  text = sub(r\"\\'d\", \" would \", text)\n",
        "  text = sub(r\"\\'ll\", \" will \", text)\n",
        "  text = sub(r\",\", \" \", text)\n",
        "  text = sub(r\"\\.\", \" \", text)\n",
        "  text = sub(r\"!\", \" ! \", text)\n",
        "  text = sub(r\"\\/\", \" \", text)\n",
        "  text = sub(r\"\\^\", \" ^ \", text)\n",
        "  text = sub(r\"\\+\", \" + \", text)\n",
        "  text = sub(r\"\\-\", \" - \", text)\n",
        "  text = sub(r\"\\=\", \" = \", text)\n",
        "  text = sub(r\"'\", \" \", text)\n",
        "  text = sub(r\"(\\d+)(k)\", r\"\\g<1>000\", text)\n",
        "  text = sub(r\":\", \" : \", text)\n",
        "  text = sub(r\" e g \", \" eg \", text)\n",
        "  text = sub(r\" b g \", \" bg \", text)\n",
        "  text = sub(r\" u s \", \" american \", text)\n",
        "  text = sub(r\"\\0s\", \"0\", text)\n",
        "  text = sub(r\" 9 11 \", \"911\", text)\n",
        "  text = sub(r\"e - mail\", \"email\", text)\n",
        "  text = sub(r\"j k\", \"jk\", text)\n",
        "  text = sub(r\"\\s{2,}\", \" \", text)\n",
        "\n",
        "  text = text.split()\n",
        "\n",
        "  return text"
      ]
    },
    {
      "cell_type": "code",
      "execution_count": 10,
      "metadata": {
        "id": "sKZ8iyG0AZAd"
      },
      "outputs": [],
      "source": [
        "def generate_vocab():\n",
        "  print('Generating vocabulary')\n",
        "\n",
        "  global vocab_size, vocab\n",
        "  global word_to_id, id_to_word, word_to_count\n",
        "  global data_df\n",
        "\n",
        "  stops = set(stopwords.words('english'))\n",
        "\n",
        "  # Iterate over required sequences of provided dataset\n",
        "  for index, row in data_df.iterrows():\n",
        "      # Iterate through the text of both questions of the row\n",
        "      for col in sequence_cols:\n",
        "          s2n = []  # Sequences with words replaces with indices\n",
        "          for word in text_to_word_list(row[col]):\n",
        "              # Remove unwanted words\n",
        "              if word in stops:\n",
        "                  continue\n",
        "\n",
        "              if word not in vocab:\n",
        "                  vocab.add(word)\n",
        "                  word_to_id[word] = vocab_size\n",
        "                  word_to_count[word] = 1\n",
        "                  s2n.append(vocab_size)\n",
        "                  id_to_word[vocab_size] = word\n",
        "                  vocab_size += 1\n",
        "\n",
        "              else:\n",
        "                  word_to_count[word] += 1\n",
        "                  s2n.append(word_to_id[word])\n",
        "\n",
        "          # Replace |sequence as word| with |sequence as number| representation\n",
        "          data_df.at[index, col] = s2n"
      ]
    },
    {
      "cell_type": "code",
      "execution_count": 11,
      "metadata": {
        "colab": {
          "base_uri": "https://localhost:8080/"
        },
        "id": "aQ2KuP0PP1x-",
        "outputId": "369b53bc-6850-466f-e032-d5da9705d0ce"
      },
      "outputs": [
        {
          "name": "stdout",
          "output_type": "stream",
          "text": [
            "Generating vocabulary\n",
            "Gen 140069 vocab in 3.6699480732282 min\n"
          ]
        }
      ],
      "source": [
        "start = time()\n",
        "generate_vocab()\n",
        "data_df.head()\n",
        "print(f\"Gen {vocab_size} vocab in {(time() - start) / 60} min\")"
      ]
    },
    {
      "cell_type": "code",
      "execution_count": 12,
      "metadata": {
        "id": "RAoRRslIEiBP"
      },
      "outputs": [],
      "source": [
        "def preprocess_data():\n",
        "  print('Building training data set')\n",
        "  \n",
        "  global x_train, x_val, y_train, y_val\n",
        "  global x_test, y_test\n",
        "\n",
        "  X = data_df[sequence_cols]\n",
        "  Y = data_df[score_col]\n",
        "\n",
        "  x_rem, x_test, y_rem, y_test = train_test_split(X, Y, train_size=test_ratio, stratify=Y, random_state=random_state)\n",
        "  x_train, x_val, y_train, y_val = train_test_split(x_rem, y_rem, train_size=train_ratio, stratify=y_rem, random_state=random_state)\n",
        "\n",
        "  # Split to lists\n",
        "  x_train = [x_train[column] for column in sequence_cols]\n",
        "  x_val = [x_val[column] for column in sequence_cols]\n",
        "  x_test = [x_test[column] for column in sequence_cols]\n",
        "\n",
        "  # Convert labels to their numpy representations\n",
        "  y_train = y_train.values\n",
        "  y_val = y_val.values\n",
        "  y_test = y_test.values"
      ]
    },
    {
      "cell_type": "code",
      "execution_count": 13,
      "metadata": {
        "colab": {
          "base_uri": "https://localhost:8080/"
        },
        "id": "DEoUmoUGEsCL",
        "outputId": "82fa3a75-1c18-4a2a-bcc0-62d5933c6ecf"
      },
      "outputs": [
        {
          "name": "stdout",
          "output_type": "stream",
          "text": [
            "Building training data set\n",
            "Length X_train: 74378\n",
            "Length X_val: 8265\n",
            "Length X_test: 20661\n"
          ]
        }
      ],
      "source": [
        "preprocess_data()\n",
        "print('Length X_train: ' + str(len(x_train[0])))\n",
        "print('Length X_val: ' + str(len(x_val[0])))\n",
        "print('Length X_test: ' + str(len(x_test[0])))"
      ]
    },
    {
      "cell_type": "code",
      "execution_count": 14,
      "metadata": {
        "id": "qJsNpx5gGf80"
      },
      "outputs": [],
      "source": [
        "# max_len = 1024\n",
        "def pad_seq():\n",
        "  print('Padding sequences')\n",
        "\n",
        "  global max_len\n",
        "\n",
        "  if max_len == 0:\n",
        "      max_len = max(\n",
        "          max(len(seq) for seq in x_train[0]),\n",
        "          max(len(seq) for seq in x_train[1]),\n",
        "          max(len(seq) for seq in x_val[0]),\n",
        "          max(len(seq) for seq in x_val[1]),\n",
        "          max(len(seq) for seq in x_test[0]),\n",
        "          max(len(seq) for seq in x_test[1]))\n",
        "  print(f\"max_len: {max_len}\")\n",
        "  # Zero padding\n",
        "  for dataset, side in itertools.product([x_train, x_val, x_test], [0, 1]):\n",
        "      if max_len: dataset[side] = pad_sequences(dataset[side], maxlen=max_len)\n",
        "      else : dataset[side] = pad_sequences(dataset[side])"
      ]
    },
    {
      "cell_type": "code",
      "execution_count": 15,
      "metadata": {
        "colab": {
          "base_uri": "https://localhost:8080/"
        },
        "id": "sagPxQAIGnDR",
        "outputId": "dd8325e8-1bc8-4dd0-b630-f2486122b4a4"
      },
      "outputs": [
        {
          "name": "stdout",
          "output_type": "stream",
          "text": [
            "Review seq len: 139.51324316330098\n",
            "Synopsis seq len: 1011.2758745865713\n",
            "max seq len: 5998\n",
            "Padding sequences\n",
            "max_len: 1024\n"
          ]
        }
      ],
      "source": [
        "print(f\"Review seq len: {np.mean([len(seq) for seq in x_train[1]])}\")\n",
        "print(f\"Synopsis seq len: {np.mean([len(seq) for seq in x_train[0]])}\")\n",
        "max_len_tmp = max(\n",
        "          max(len(seq) for seq in x_train[0]),\n",
        "          max(len(seq) for seq in x_train[1]),\n",
        "          max(len(seq) for seq in x_val[0]),\n",
        "          max(len(seq) for seq in x_val[1]),\n",
        "          max(len(seq) for seq in x_test[0]),\n",
        "          max(len(seq) for seq in x_test[1]))\n",
        "print(f\"max seq len: {max_len_tmp}\")\n",
        "pad_seq()"
      ]
    },
    {
      "cell_type": "code",
      "execution_count": 16,
      "metadata": {
        "id": "8lcUKtP8Ppt7"
      },
      "outputs": [],
      "source": [
        "embedding_dim = 300\n",
        "\n",
        "def get_embedding_matrix(word_index):\n",
        "  word2vec = KeyedVectors.load_word2vec_format(google_embeddings, binary=True)\n",
        "\n",
        "  # Prepare Embedding Matrix.\n",
        "  embedding_matrix = np.zeros((len(word_index)+1, embedding_dim))\n",
        "\n",
        "  for word, i in word_index.items():\n",
        "  # words not found in embedding index will be all-zeros.\n",
        "    if word not in word2vec.key_to_index:\n",
        "      continue\n",
        "    embedding_matrix[i] = word2vec.get_vector(word)\n",
        "\n",
        "  del word2vec\n",
        "  return embedding_matrix"
      ]
    },
    {
      "cell_type": "code",
      "execution_count": 17,
      "metadata": {
        "colab": {
          "base_uri": "https://localhost:8080/"
        },
        "id": "u5fayxcHHSAR",
        "outputId": "55d920e5-0c7e-4cc0-de25-1bc2b8362031"
      },
      "outputs": [
        {
          "name": "stdout",
          "output_type": "stream",
          "text": [
            "Building Embedding Matrix\n"
          ]
        }
      ],
      "source": [
        "print('Building Embedding Matrix')\n",
        "embedding_matrix = get_embedding_matrix(word_to_id)\n",
        "embedding_size = embedding_matrix.shape[1]"
      ]
    },
    {
      "attachments": {},
      "cell_type": "markdown",
      "metadata": {
        "id": "Ug7xFXlxTpNB"
      },
      "source": [
        "## Manhatten LSTM"
      ]
    },
    {
      "cell_type": "code",
      "execution_count": 18,
      "metadata": {
        "id": "HcyMuEoHTsXR"
      },
      "outputs": [],
      "source": [
        "hidden_size = 50\n",
        "adadel_learning_rate = 0.66\n",
        "adam_learning_rate = 1e-4 # 0.001\n",
        "# dropout_rate = 0.1\n",
        "batch_size = 64\n",
        "num_epochs = 30 # number of epochs\n",
        "\n",
        "PATIENCE = 4\n",
        "VERBOSE = 1"
      ]
    },
    {
      "cell_type": "code",
      "execution_count": 19,
      "metadata": {
        "colab": {
          "base_uri": "https://localhost:8080/"
        },
        "id": "vF72ZEL9T67I",
        "outputId": "86b7f17d-664e-414b-9717-ba6481e2f388"
      },
      "outputs": [
        {
          "name": "stdout",
          "output_type": "stream",
          "text": [
            "Number of training samples        : 74378\n",
            "Number of validation samples      : 8265\n",
            "Number of testing samples         : 20661\n",
            "Maximum sequence length           : 1024\n"
          ]
        }
      ],
      "source": [
        "print('Number of training samples        :', len(x_train[0]))\n",
        "print('Number of validation samples      :', len(x_val[0]))\n",
        "print('Number of testing samples         :', len(x_test[0]))\n",
        "print('Maximum sequence length           :', max_len)"
      ]
    },
    {
      "cell_type": "code",
      "execution_count": 20,
      "metadata": {
        "id": "uXU91bvbVIYX"
      },
      "outputs": [],
      "source": [
        "def exponent_neg_manhattan_distance(x, hidden_size=50):\n",
        "  ''' Helper function for the similarity estimate of the LSTMs outputs '''\n",
        "  return K.exp(-K.sum(K.abs(x[:,:hidden_size] - x[:,hidden_size:]), axis=1, keepdims=True))\n",
        "\n",
        "def exponent_neg_cosine_distance(x, hidden_size=50):\n",
        "  ''' Helper function for the similarity estimate of the LSTMs outputs '''\n",
        "  leftNorm = K.l2_normalize(x[:,:hidden_size], axis=-1)\n",
        "  rightNorm = K.l2_normalize(x[:,hidden_size:], axis=-1)\n",
        "  return K.exp(K.sum(K.prod([leftNorm, rightNorm], axis=0), axis=1, keepdims=True))"
      ]
    },
    {
      "cell_type": "code",
      "execution_count": 43,
      "metadata": {},
      "outputs": [],
      "source": [
        "def recall(y_true, y_pred):\n",
        "    \"\"\"Recall metric.\n",
        "\n",
        "    Only computes a batch-wise average of recall.\n",
        "\n",
        "    Computes the recall, a metric for multi-label classification of\n",
        "    how many relevant items are selected.\n",
        "    \"\"\"\n",
        "    true_positives = K.sum(K.round(K.clip(y_true * y_pred, 0, 1)))\n",
        "    possible_positives = K.sum(K.round(K.clip(y_true, 0, 1)))\n",
        "    recall = true_positives / (possible_positives + K.epsilon())\n",
        "    return recall\n",
        "\n",
        "def precision(y_true, y_pred):\n",
        "    \"\"\"Precision metric.\n",
        "\n",
        "    Only computes a batch-wise average of precision.\n",
        "\n",
        "    Computes the precision, a metric for multi-label classification of\n",
        "    how many selected items are relevant.\n",
        "    \"\"\"\n",
        "    true_positives = K.sum(K.round(K.clip(y_true * y_pred, 0, 1)))\n",
        "    predicted_positives = K.sum(K.round(K.clip(y_pred, 0, 1)))\n",
        "    precision = true_positives / (predicted_positives + K.epsilon())\n",
        "    return precision\n",
        "\n",
        "def f1(y_true, y_pred):\n",
        "    prec = precision(y_true, y_pred)\n",
        "    rec = recall(y_true, y_pred)\n",
        "    return 2 * prec * rec / (prec + rec + K.epsilon())\n",
        "    return y_true"
      ]
    },
    {
      "cell_type": "code",
      "execution_count": 44,
      "metadata": {
        "colab": {
          "base_uri": "https://localhost:8080/"
        },
        "id": "HK8y52zoVfwc",
        "outputId": "2fc2240e-8d77-445c-923c-88f908a14fd0"
      },
      "outputs": [],
      "source": [
        "# opt1 = keras.optimizers.Adadelta(lr=adadel_learning_rate, clipnorm=1.25)\n",
        "adam_opt = keras.optimizers.Adam(lr=adam_learning_rate)\n",
        "\n",
        "checkpoint = ModelCheckpoint(filepath=ckpt_filepath, \n",
        "                             monitor='val_loss', \n",
        "                             verbose=VERBOSE,\n",
        "                             save_best_only=True, \n",
        "                             mode='auto')\n",
        "\n",
        "early_stopping = EarlyStopping(monitor='val_loss',\n",
        "                               patience=PATIENCE,\n",
        "                               verbose=VERBOSE)"
      ]
    },
    {
      "cell_type": "code",
      "execution_count": 45,
      "metadata": {
        "id": "GzmGIM7yWbaR"
      },
      "outputs": [],
      "source": [
        "def get_manhattan_lstm_model(embedding_matrix, embedding_size, lstm_layers, opt):\n",
        "  embed_layer = Embedding(output_dim=embedding_size, input_dim=vocab_size+1, input_length=max_len, trainable=False)\n",
        "  embed_layer.build((None,))\n",
        "  embed_layer.set_weights([embedding_matrix])\n",
        "\n",
        "  seq_1 = Input(shape=(max_len,), dtype='int32', name='sentence_1')\n",
        "  seq_2 = Input(shape=(max_len,), dtype='int32', name='sentence_2')\n",
        "\n",
        "  input_1 = embed_layer(seq_1)\n",
        "  input_2 = embed_layer(seq_2)\n",
        "\n",
        "  l1 = LSTM(units=hidden_size)\n",
        "\n",
        "  l1_out = l1(input_1)\n",
        "  l2_out = l1(input_2)\n",
        "\n",
        "  concats = concatenate([l1_out, l2_out], axis=-1)\n",
        "\n",
        "  main_output = Lambda(exponent_neg_manhattan_distance, output_shape=(1,))(concats)\n",
        "  model = Model(inputs=[seq_1, seq_2], outputs=[main_output])\n",
        "  # bcewithlogitloss = tf.keras.losses.BinaryCrossentropy(from_logits=True)\n",
        "  model.compile(optimizer=opt, loss='binary_crossentropy', metrics=['accuracy', precision, recall, f1])\n",
        "  return model"
      ]
    },
    {
      "cell_type": "code",
      "execution_count": 46,
      "metadata": {
        "colab": {
          "base_uri": "https://localhost:8080/"
        },
        "id": "lh04KE-TJx3G",
        "outputId": "90dace16-0cb5-4a5e-a795-0faad63b9a26"
      },
      "outputs": [
        {
          "name": "stdout",
          "output_type": "stream",
          "text": [
            "Model: \"model_2\"\n",
            "__________________________________________________________________________________________________\n",
            " Layer (type)                   Output Shape         Param #     Connected to                     \n",
            "==================================================================================================\n",
            " sentence_1 (InputLayer)        [(None, 1024)]       0           []                               \n",
            "                                                                                                  \n",
            " sentence_2 (InputLayer)        [(None, 1024)]       0           []                               \n",
            "                                                                                                  \n",
            " embedding_3 (Embedding)        (None, 1024, 300)    42021000    ['sentence_1[0][0]',             \n",
            "                                                                  'sentence_2[0][0]']             \n",
            "                                                                                                  \n",
            " lstm_3 (LSTM)                  (None, 50)           70200       ['embedding_3[0][0]',            \n",
            "                                                                  'embedding_3[1][0]']            \n",
            "                                                                                                  \n",
            " concatenate_3 (Concatenate)    (None, 100)          0           ['lstm_3[0][0]',                 \n",
            "                                                                  'lstm_3[1][0]']                 \n",
            "                                                                                                  \n",
            " lambda_2 (Lambda)              (None, 1)            0           ['concatenate_3[0][0]']          \n",
            "                                                                                                  \n",
            "==================================================================================================\n",
            "Total params: 42,091,200\n",
            "Trainable params: 70,200\n",
            "Non-trainable params: 42,021,000\n",
            "__________________________________________________________________________________________________\n"
          ]
        }
      ],
      "source": [
        "man_lstm_model = get_manhattan_lstm_model(embedding_matrix, embedding_size, hidden_size, adam_opt)\n",
        "man_lstm_model.summary()"
      ]
    },
    {
      "cell_type": "code",
      "execution_count": 47,
      "metadata": {
        "colab": {
          "base_uri": "https://localhost:8080/"
        },
        "id": "MRLaHtyiaQQL",
        "outputId": "34a0762d-89e6-43fe-f120-441732256bf2"
      },
      "outputs": [
        {
          "name": "stdout",
          "output_type": "stream",
          "text": [
            "Epoch 1/30\n",
            "1163/1163 [==============================] - ETA: 0s - loss: 0.6360 - accuracy: 0.7359 - precision: 0.0120 - recall: 7.8507e-04 - f1: 0.0015\n",
            "Epoch 1: val_loss improved from inf to 0.58117, saving model to /root/lstm/saved_models_manhtn/lr1-san-adam--01-0.58117.hdf5\n",
            "1163/1163 [==============================] - 75s 62ms/step - loss: 0.6360 - accuracy: 0.7359 - precision: 0.0120 - recall: 7.8507e-04 - f1: 0.0015 - val_loss: 0.5812 - val_accuracy: 0.7353 - val_precision: 0.0154 - val_recall: 0.0014 - val_f1: 0.0025\n",
            "Epoch 2/30\n",
            "1163/1163 [==============================] - ETA: 0s - loss: 0.5754 - accuracy: 0.7358 - precision: 0.0224 - recall: 0.0015 - f1: 0.0028\n",
            "Epoch 2: val_loss improved from 0.58117 to 0.57634, saving model to /root/lstm/saved_models_manhtn/lr1-san-adam--02-0.57634.hdf5\n",
            "1163/1163 [==============================] - 72s 62ms/step - loss: 0.5754 - accuracy: 0.7358 - precision: 0.0224 - recall: 0.0015 - f1: 0.0028 - val_loss: 0.5763 - val_accuracy: 0.7354 - val_precision: 0.0077 - val_recall: 7.6923e-04 - val_f1: 0.0014\n",
            "Epoch 3/30\n",
            "1163/1163 [==============================] - ETA: 0s - loss: 0.5671 - accuracy: 0.7360 - precision: 0.0245 - recall: 0.0014 - f1: 0.0026\n",
            "Epoch 3: val_loss improved from 0.57634 to 0.57312, saving model to /root/lstm/saved_models_manhtn/lr1-san-adam--03-0.57312.hdf5\n",
            "1163/1163 [==============================] - 72s 62ms/step - loss: 0.5671 - accuracy: 0.7360 - precision: 0.0245 - recall: 0.0014 - f1: 0.0026 - val_loss: 0.5731 - val_accuracy: 0.7356 - val_precision: 0.0077 - val_recall: 7.6923e-04 - val_f1: 0.0014\n",
            "Epoch 4/30\n",
            "1163/1163 [==============================] - ETA: 0s - loss: 0.5594 - accuracy: 0.7361 - precision: 0.0211 - recall: 0.0013 - f1: 0.0024\n",
            "Epoch 4: val_loss improved from 0.57312 to 0.56469, saving model to /root/lstm/saved_models_manhtn/lr1-san-adam--04-0.56469.hdf5\n",
            "1163/1163 [==============================] - 73s 62ms/step - loss: 0.5594 - accuracy: 0.7361 - precision: 0.0211 - recall: 0.0013 - f1: 0.0024 - val_loss: 0.5647 - val_accuracy: 0.7361 - val_precision: 0.0154 - val_recall: 0.0012 - val_f1: 0.0021\n",
            "Epoch 5/30\n",
            "1163/1163 [==============================] - ETA: 0s - loss: 0.5384 - accuracy: 0.7364 - precision: 0.0443 - recall: 0.0028 - f1: 0.0052\n",
            "Epoch 5: val_loss improved from 0.56469 to 0.53471, saving model to /root/lstm/saved_models_manhtn/lr1-san-adam--05-0.53471.hdf5\n",
            "1163/1163 [==============================] - 72s 62ms/step - loss: 0.5384 - accuracy: 0.7364 - precision: 0.0443 - recall: 0.0028 - f1: 0.0052 - val_loss: 0.5347 - val_accuracy: 0.7366 - val_precision: 0.0923 - val_recall: 0.0064 - val_f1: 0.0119\n",
            "Epoch 6/30\n",
            "1163/1163 [==============================] - ETA: 0s - loss: 0.5214 - accuracy: 0.7384 - precision: 0.1938 - recall: 0.0129 - f1: 0.0240\n",
            "Epoch 6: val_loss improved from 0.53471 to 0.52264, saving model to /root/lstm/saved_models_manhtn/lr1-san-adam--06-0.52264.hdf5\n",
            "1163/1163 [==============================] - 72s 62ms/step - loss: 0.5214 - accuracy: 0.7384 - precision: 0.1938 - recall: 0.0129 - f1: 0.0240 - val_loss: 0.5226 - val_accuracy: 0.7378 - val_precision: 0.2692 - val_recall: 0.0204 - val_f1: 0.0375\n",
            "Epoch 7/30\n",
            "1163/1163 [==============================] - ETA: 0s - loss: 0.5131 - accuracy: 0.7411 - precision: 0.3790 - recall: 0.0306 - f1: 0.0558\n",
            "Epoch 7: val_loss improved from 0.52264 to 0.51843, saving model to /root/lstm/saved_models_manhtn/lr1-san-adam--07-0.51843.hdf5\n",
            "1163/1163 [==============================] - 71s 61ms/step - loss: 0.5131 - accuracy: 0.7411 - precision: 0.3790 - recall: 0.0306 - f1: 0.0558 - val_loss: 0.5184 - val_accuracy: 0.7399 - val_precision: 0.3769 - val_recall: 0.0323 - val_f1: 0.0585\n",
            "Epoch 8/30\n",
            "1163/1163 [==============================] - ETA: 0s - loss: 0.5073 - accuracy: 0.7452 - precision: 0.5403 - recall: 0.0533 - f1: 0.0948\n",
            "Epoch 8: val_loss improved from 0.51843 to 0.51395, saving model to /root/lstm/saved_models_manhtn/lr1-san-adam--08-0.51395.hdf5\n",
            "1163/1163 [==============================] - 72s 62ms/step - loss: 0.5073 - accuracy: 0.7452 - precision: 0.5403 - recall: 0.0533 - f1: 0.0948 - val_loss: 0.5140 - val_accuracy: 0.7404 - val_precision: 0.4741 - val_recall: 0.0532 - val_f1: 0.0932\n",
            "Epoch 9/30\n",
            "1163/1163 [==============================] - ETA: 0s - loss: 0.5030 - accuracy: 0.7488 - precision: 0.6006 - recall: 0.0758 - f1: 0.1306\n",
            "Epoch 9: val_loss improved from 0.51395 to 0.51212, saving model to /root/lstm/saved_models_manhtn/lr1-san-adam--09-0.51212.hdf5\n",
            "1163/1163 [==============================] - 72s 62ms/step - loss: 0.5030 - accuracy: 0.7488 - precision: 0.6006 - recall: 0.0758 - f1: 0.1306 - val_loss: 0.5121 - val_accuracy: 0.7417 - val_precision: 0.5097 - val_recall: 0.0597 - val_f1: 0.1042\n",
            "Epoch 10/30\n",
            "1163/1163 [==============================] - ETA: 0s - loss: 0.4998 - accuracy: 0.7515 - precision: 0.6306 - recall: 0.0914 - f1: 0.1543\n",
            "Epoch 10: val_loss improved from 0.51212 to 0.51031, saving model to /root/lstm/saved_models_manhtn/lr1-san-adam--10-0.51031.hdf5\n",
            "1163/1163 [==============================] - 72s 62ms/step - loss: 0.4998 - accuracy: 0.7515 - precision: 0.6306 - recall: 0.0914 - f1: 0.1543 - val_loss: 0.5103 - val_accuracy: 0.7425 - val_precision: 0.5396 - val_recall: 0.0715 - val_f1: 0.1229\n",
            "Epoch 11/30\n",
            "1163/1163 [==============================] - ETA: 0s - loss: 0.4969 - accuracy: 0.7543 - precision: 0.6577 - recall: 0.1085 - f1: 0.1796\n",
            "Epoch 11: val_loss did not improve from 0.51031\n",
            "1163/1163 [==============================] - 72s 62ms/step - loss: 0.4969 - accuracy: 0.7543 - precision: 0.6577 - recall: 0.1085 - f1: 0.1796 - val_loss: 0.5115 - val_accuracy: 0.7428 - val_precision: 0.5413 - val_recall: 0.0791 - val_f1: 0.1340\n",
            "Epoch 12/30\n",
            "1163/1163 [==============================] - ETA: 0s - loss: 0.4945 - accuracy: 0.7575 - precision: 0.6889 - recall: 0.1242 - f1: 0.2036\n",
            "Epoch 12: val_loss improved from 0.51031 to 0.50783, saving model to /root/lstm/saved_models_manhtn/lr1-san-adam--12-0.50783.hdf5\n",
            "1163/1163 [==============================] - 71s 61ms/step - loss: 0.4945 - accuracy: 0.7575 - precision: 0.6889 - recall: 0.1242 - f1: 0.2036 - val_loss: 0.5078 - val_accuracy: 0.7454 - val_precision: 0.5797 - val_recall: 0.0923 - val_f1: 0.1541\n",
            "Epoch 13/30\n",
            "1163/1163 [==============================] - ETA: 0s - loss: 0.4921 - accuracy: 0.7601 - precision: 0.7083 - recall: 0.1392 - f1: 0.2244\n",
            "Epoch 13: val_loss improved from 0.50783 to 0.50645, saving model to /root/lstm/saved_models_manhtn/lr1-san-adam--13-0.50645.hdf5\n",
            "1163/1163 [==============================] - 72s 62ms/step - loss: 0.4921 - accuracy: 0.7601 - precision: 0.7083 - recall: 0.1392 - f1: 0.2244 - val_loss: 0.5064 - val_accuracy: 0.7471 - val_precision: 0.5790 - val_recall: 0.1076 - val_f1: 0.1763\n",
            "Epoch 14/30\n",
            "1163/1163 [==============================] - ETA: 0s - loss: 0.4899 - accuracy: 0.7616 - precision: 0.7211 - recall: 0.1487 - f1: 0.2376\n",
            "Epoch 14: val_loss improved from 0.50645 to 0.50577, saving model to /root/lstm/saved_models_manhtn/lr1-san-adam--14-0.50577.hdf5\n",
            "1163/1163 [==============================] - 72s 62ms/step - loss: 0.4899 - accuracy: 0.7616 - precision: 0.7211 - recall: 0.1487 - f1: 0.2376 - val_loss: 0.5058 - val_accuracy: 0.7482 - val_precision: 0.5922 - val_recall: 0.1056 - val_f1: 0.1737\n",
            "Epoch 15/30\n",
            "1163/1163 [==============================] - ETA: 0s - loss: 0.4883 - accuracy: 0.7639 - precision: 0.7245 - recall: 0.1621 - f1: 0.2557\n",
            "Epoch 15: val_loss improved from 0.50577 to 0.50535, saving model to /root/lstm/saved_models_manhtn/lr1-san-adam--15-0.50535.hdf5\n",
            "1163/1163 [==============================] - 72s 62ms/step - loss: 0.4883 - accuracy: 0.7639 - precision: 0.7245 - recall: 0.1621 - f1: 0.2557 - val_loss: 0.5053 - val_accuracy: 0.7487 - val_precision: 0.5873 - val_recall: 0.1131 - val_f1: 0.1834\n",
            "Epoch 16/30\n",
            "1163/1163 [==============================] - ETA: 0s - loss: 0.4869 - accuracy: 0.7665 - precision: 0.7265 - recall: 0.1721 - f1: 0.2683\n",
            "Epoch 16: val_loss improved from 0.50535 to 0.50508, saving model to /root/lstm/saved_models_manhtn/lr1-san-adam--16-0.50508.hdf5\n",
            "1163/1163 [==============================] - 71s 61ms/step - loss: 0.4869 - accuracy: 0.7665 - precision: 0.7265 - recall: 0.1721 - f1: 0.2683 - val_loss: 0.5051 - val_accuracy: 0.7503 - val_precision: 0.6210 - val_recall: 0.1291 - val_f1: 0.2052\n",
            "Epoch 17/30\n",
            "1163/1163 [==============================] - ETA: 0s - loss: 0.4848 - accuracy: 0.7685 - precision: 0.7429 - recall: 0.1841 - f1: 0.2840\n",
            "Epoch 17: val_loss improved from 0.50508 to 0.50374, saving model to /root/lstm/saved_models_manhtn/lr1-san-adam--17-0.50374.hdf5\n",
            "1163/1163 [==============================] - 72s 62ms/step - loss: 0.4848 - accuracy: 0.7685 - precision: 0.7429 - recall: 0.1841 - f1: 0.2840 - val_loss: 0.5037 - val_accuracy: 0.7514 - val_precision: 0.6213 - val_recall: 0.1360 - val_f1: 0.2147\n",
            "Epoch 18/30\n",
            "1163/1163 [==============================] - ETA: 0s - loss: 0.4836 - accuracy: 0.7707 - precision: 0.7439 - recall: 0.1945 - f1: 0.2973\n",
            "Epoch 18: val_loss improved from 0.50374 to 0.50248, saving model to /root/lstm/saved_models_manhtn/lr1-san-adam--18-0.50248.hdf5\n",
            "1163/1163 [==============================] - 72s 62ms/step - loss: 0.4836 - accuracy: 0.7707 - precision: 0.7439 - recall: 0.1945 - f1: 0.2973 - val_loss: 0.5025 - val_accuracy: 0.7516 - val_precision: 0.6266 - val_recall: 0.1347 - val_f1: 0.2135\n",
            "Epoch 19/30\n",
            "1163/1163 [==============================] - ETA: 0s - loss: 0.4818 - accuracy: 0.7713 - precision: 0.7518 - recall: 0.1972 - f1: 0.3025\n",
            "Epoch 19: val_loss improved from 0.50248 to 0.50208, saving model to /root/lstm/saved_models_manhtn/lr1-san-adam--19-0.50208.hdf5\n",
            "1163/1163 [==============================] - 72s 62ms/step - loss: 0.4818 - accuracy: 0.7713 - precision: 0.7518 - recall: 0.1972 - f1: 0.3025 - val_loss: 0.5021 - val_accuracy: 0.7515 - val_precision: 0.6365 - val_recall: 0.1296 - val_f1: 0.2057\n",
            "Epoch 20/30\n",
            "1163/1163 [==============================] - ETA: 0s - loss: 0.4807 - accuracy: 0.7724 - precision: 0.7490 - recall: 0.1997 - f1: 0.3052\n",
            "Epoch 20: val_loss did not improve from 0.50208\n",
            "1163/1163 [==============================] - 71s 61ms/step - loss: 0.4807 - accuracy: 0.7724 - precision: 0.7490 - recall: 0.1997 - f1: 0.3052 - val_loss: 0.5043 - val_accuracy: 0.7506 - val_precision: 0.6343 - val_recall: 0.1141 - val_f1: 0.1860\n",
            "Epoch 21/30\n",
            "1163/1163 [==============================] - ETA: 0s - loss: 0.4796 - accuracy: 0.7744 - precision: 0.7535 - recall: 0.2126 - f1: 0.3200\n",
            "Epoch 21: val_loss improved from 0.50208 to 0.50057, saving model to /root/lstm/saved_models_manhtn/lr1-san-adam--21-0.50057.hdf5\n",
            "1163/1163 [==============================] - 72s 62ms/step - loss: 0.4796 - accuracy: 0.7744 - precision: 0.7535 - recall: 0.2126 - f1: 0.3200 - val_loss: 0.5006 - val_accuracy: 0.7520 - val_precision: 0.6082 - val_recall: 0.1521 - val_f1: 0.2341\n",
            "Epoch 22/30\n",
            "1163/1163 [==============================] - ETA: 0s - loss: 0.4781 - accuracy: 0.7755 - precision: 0.7549 - recall: 0.2166 - f1: 0.3259\n",
            "Epoch 22: val_loss did not improve from 0.50057\n",
            "1163/1163 [==============================] - 71s 61ms/step - loss: 0.4781 - accuracy: 0.7755 - precision: 0.7549 - recall: 0.2166 - f1: 0.3259 - val_loss: 0.5017 - val_accuracy: 0.7488 - val_precision: 0.5689 - val_recall: 0.1871 - val_f1: 0.2725\n",
            "Epoch 23/30\n",
            "1163/1163 [==============================] - ETA: 0s - loss: 0.4773 - accuracy: 0.7767 - precision: 0.7590 - recall: 0.2234 - f1: 0.3328\n",
            "Epoch 23: val_loss improved from 0.50057 to 0.50022, saving model to /root/lstm/saved_models_manhtn/lr1-san-adam--23-0.50022.hdf5\n",
            "1163/1163 [==============================] - 73s 62ms/step - loss: 0.4773 - accuracy: 0.7767 - precision: 0.7590 - recall: 0.2234 - f1: 0.3328 - val_loss: 0.5002 - val_accuracy: 0.7509 - val_precision: 0.5903 - val_recall: 0.1844 - val_f1: 0.2707\n",
            "Epoch 24/30\n",
            "1163/1163 [==============================] - ETA: 0s - loss: 0.4760 - accuracy: 0.7774 - precision: 0.7530 - recall: 0.2286 - f1: 0.3385\n",
            "Epoch 24: val_loss improved from 0.50022 to 0.49948, saving model to /root/lstm/saved_models_manhtn/lr1-san-adam--24-0.49948.hdf5\n",
            "1163/1163 [==============================] - 72s 62ms/step - loss: 0.4760 - accuracy: 0.7774 - precision: 0.7530 - recall: 0.2286 - f1: 0.3385 - val_loss: 0.4995 - val_accuracy: 0.7505 - val_precision: 0.5970 - val_recall: 0.1781 - val_f1: 0.2634\n",
            "Epoch 25/30\n",
            "1163/1163 [==============================] - ETA: 0s - loss: 0.4752 - accuracy: 0.7783 - precision: 0.7609 - recall: 0.2320 - f1: 0.3434\n",
            "Epoch 25: val_loss improved from 0.49948 to 0.49932, saving model to /root/lstm/saved_models_manhtn/lr1-san-adam--25-0.49932.hdf5\n",
            "1163/1163 [==============================] - 72s 62ms/step - loss: 0.4752 - accuracy: 0.7783 - precision: 0.7609 - recall: 0.2320 - f1: 0.3434 - val_loss: 0.4993 - val_accuracy: 0.7529 - val_precision: 0.6100 - val_recall: 0.1693 - val_f1: 0.2547\n",
            "Epoch 26/30\n",
            "1163/1163 [==============================] - ETA: 0s - loss: 0.4736 - accuracy: 0.7797 - precision: 0.7601 - recall: 0.2396 - f1: 0.3531\n",
            "Epoch 26: val_loss did not improve from 0.49932\n",
            "1163/1163 [==============================] - 72s 62ms/step - loss: 0.4736 - accuracy: 0.7797 - precision: 0.7601 - recall: 0.2396 - f1: 0.3531 - val_loss: 0.4995 - val_accuracy: 0.7518 - val_precision: 0.5982 - val_recall: 0.1832 - val_f1: 0.2705\n",
            "Epoch 27/30\n",
            "1163/1163 [==============================] - ETA: 0s - loss: 0.4731 - accuracy: 0.7797 - precision: 0.7645 - recall: 0.2401 - f1: 0.3542\n",
            "Epoch 27: val_loss did not improve from 0.49932\n",
            "1163/1163 [==============================] - 72s 62ms/step - loss: 0.4731 - accuracy: 0.7797 - precision: 0.7645 - recall: 0.2401 - f1: 0.3542 - val_loss: 0.4998 - val_accuracy: 0.7504 - val_precision: 0.5724 - val_recall: 0.1960 - val_f1: 0.2832\n",
            "Epoch 28/30\n",
            "1163/1163 [==============================] - ETA: 0s - loss: 0.4727 - accuracy: 0.7810 - precision: 0.7626 - recall: 0.2459 - f1: 0.3599\n",
            "Epoch 28: val_loss did not improve from 0.49932\n",
            "1163/1163 [==============================] - 73s 62ms/step - loss: 0.4727 - accuracy: 0.7810 - precision: 0.7626 - recall: 0.2459 - f1: 0.3599 - val_loss: 0.5000 - val_accuracy: 0.7498 - val_precision: 0.5700 - val_recall: 0.2077 - val_f1: 0.2949\n",
            "Epoch 29/30\n",
            "1163/1163 [==============================] - ETA: 0s - loss: 0.4719 - accuracy: 0.7822 - precision: 0.7663 - recall: 0.2488 - f1: 0.3627\n",
            "Epoch 29: val_loss improved from 0.49932 to 0.49863, saving model to /root/lstm/saved_models_manhtn/lr1-san-adam--29-0.49863.hdf5\n",
            "1163/1163 [==============================] - 72s 62ms/step - loss: 0.4719 - accuracy: 0.7822 - precision: 0.7663 - recall: 0.2488 - f1: 0.3627 - val_loss: 0.4986 - val_accuracy: 0.7525 - val_precision: 0.6137 - val_recall: 0.1720 - val_f1: 0.2586\n",
            "Epoch 30/30\n",
            "1163/1163 [==============================] - ETA: 0s - loss: 0.4706 - accuracy: 0.7827 - precision: 0.7672 - recall: 0.2522 - f1: 0.3679\n",
            "Epoch 30: val_loss improved from 0.49863 to 0.49748, saving model to /root/lstm/saved_models_manhtn/lr1-san-adam--30-0.49748.hdf5\n",
            "1163/1163 [==============================] - 72s 62ms/step - loss: 0.4706 - accuracy: 0.7827 - precision: 0.7672 - recall: 0.2522 - f1: 0.3679 - val_loss: 0.4975 - val_accuracy: 0.7532 - val_precision: 0.6128 - val_recall: 0.1730 - val_f1: 0.2593\n",
            "Training time finished.\n",
            "30 epochs in 0:36:01.833939\n"
          ]
        }
      ],
      "source": [
        "training_start_time = time()\n",
        "man_lstm_model_ = man_lstm_model.fit(x_train, \n",
        "                                 y_train, \n",
        "                                 validation_data=(x_val, y_val),\n",
        "                                 epochs=num_epochs,\n",
        "                                 callbacks=[checkpoint, early_stopping], \n",
        "                                 batch_size=batch_size, \n",
        "                                 verbose=1)\n",
        "\n",
        "print(\"Training time finished.\\n{} epochs in {}\".format(num_epochs, datetime.timedelta(seconds=time()-training_start_time)))"
      ]
    },
    {
      "cell_type": "code",
      "execution_count": 49,
      "metadata": {
        "_kg_hide-output": true,
        "execution": {
          "iopub.execute_input": "2023-04-26T03:29:04.759946Z",
          "iopub.status.busy": "2023-04-26T03:29:04.759534Z",
          "iopub.status.idle": "2023-04-26T03:30:41.318684Z",
          "shell.execute_reply": "2023-04-26T03:30:41.317542Z",
          "shell.execute_reply.started": "2023-04-26T03:29:04.759899Z"
        },
        "id": "mT9Ja0zA7cY1",
        "trusted": true
      },
      "outputs": [],
      "source": [
        "# stratified model\n",
        "model_path = '/root/lstm/saved_models_manhtn/lr1-san-adam--30-0.49748.hdf5'\n",
        "\n",
        "man_lstm_model.load_weights(model_path)"
      ]
    },
    {
      "cell_type": "code",
      "execution_count": 50,
      "metadata": {
        "_kg_hide-output": true,
        "execution": {
          "iopub.execute_input": "2023-04-26T03:30:41.320755Z",
          "iopub.status.busy": "2023-04-26T03:30:41.320251Z",
          "iopub.status.idle": "2023-04-26T03:32:09.376154Z",
          "shell.execute_reply": "2023-04-26T03:32:09.375111Z",
          "shell.execute_reply.started": "2023-04-26T03:30:41.320706Z"
        },
        "id": "iYRmRIDc7cY1",
        "trusted": true
      },
      "outputs": [
        {
          "data": {
            "image/png": "[encoded data removed]",
            "text/plain": [
              "<Figure size 640x480 with 1 Axes>"
            ]
          },
          "metadata": {},
          "output_type": "display_data"
        }
      ],
      "source": [
        "plt.figure(1)\n",
        "plt.plot(man_lstm_model_.history['accuracy'])\n",
        "plt.plot(man_lstm_model_.history['val_accuracy'])\n",
        "plt.title('Manhattan LSTM Model Accuracy')\n",
        "plt.ylabel('accuracy')\n",
        "plt.xlabel('epoch')\n",
        "plt.legend(['Training', 'Validation'], loc='upper left')\n",
        "plt.show();"
      ]
    },
    {
      "cell_type": "code",
      "execution_count": 51,
      "metadata": {
        "_kg_hide-output": true,
        "execution": {
          "iopub.execute_input": "2023-04-26T03:32:09.378356Z",
          "iopub.status.busy": "2023-04-26T03:32:09.37755Z",
          "iopub.status.idle": "2023-04-26T03:32:13.565172Z",
          "shell.execute_reply": "2023-04-26T03:32:13.56417Z",
          "shell.execute_reply.started": "2023-04-26T03:32:09.378303Z"
        },
        "id": "tY0T9C3P7cY2",
        "trusted": true
      },
      "outputs": [
        {
          "data": {
            "image/png": "[encoded data removed]",
            "text/plain": [
              "<Figure size 640x480 with 1 Axes>"
            ]
          },
          "metadata": {},
          "output_type": "display_data"
        }
      ],
      "source": [
        "plt.figure(2)\n",
        "plt.plot(man_lstm_model_.history['loss'])\n",
        "plt.plot(man_lstm_model_.history['val_loss'])\n",
        "plt.title('Manhattan LSTM Model Loss')\n",
        "plt.ylabel('loss')\n",
        "plt.xlabel('epoch')\n",
        "plt.legend(['Training', 'Validation'], loc='upper left')\n",
        "plt.show();"
      ]
    },
    {
      "cell_type": "code",
      "execution_count": 52,
      "metadata": {
        "_kg_hide-output": true,
        "execution": {
          "iopub.execute_input": "2023-04-26T03:32:13.567178Z",
          "iopub.status.busy": "2023-04-26T03:32:13.566486Z",
          "iopub.status.idle": "2023-04-26T03:32:17.304072Z",
          "shell.execute_reply": "2023-04-26T03:32:17.303009Z",
          "shell.execute_reply.started": "2023-04-26T03:32:13.567136Z"
        },
        "id": "kVSdJOiI7cY2",
        "trusted": true
      },
      "outputs": [
        {
          "name": "stdout",
          "output_type": "stream",
          "text": [
            "323/323 [==============================] - 9s 28ms/step - loss: 0.5061 - accuracy: 0.7496 - precision: 0.5949 - recall: 0.1597 - f1: 0.2430\n",
            "Test loss: 0.5060517191886902\n",
            "Test accuracy: 0.7496249079704285\n"
          ]
        }
      ],
      "source": [
        "score = man_lstm_model.evaluate(x_test,\n",
        "                            y_test,\n",
        "                            batch_size=batch_size)\n",
        "print('Test loss:', score[0])\n",
        "print('Test accuracy:', score[1])"
      ]
    },
    {
      "cell_type": "code",
      "execution_count": 53,
      "metadata": {
        "_kg_hide-output": true,
        "execution": {
          "iopub.execute_input": "2023-04-26T03:32:17.307903Z",
          "iopub.status.busy": "2023-04-26T03:32:17.307564Z",
          "iopub.status.idle": "2023-04-26T03:32:18.160466Z",
          "shell.execute_reply": "2023-04-26T03:32:18.159437Z",
          "shell.execute_reply.started": "2023-04-26T03:32:17.307871Z"
        },
        "id": "EdUB2fFX7cY3",
        "trusted": true
      },
      "outputs": [
        {
          "name": "stdout",
          "output_type": "stream",
          "text": [
            "646/646 [==============================] - 17s 26ms/step\n",
            "              precision    recall  f1-score   support\n",
            "\n",
            "           0       0.76      0.96      0.85     15212\n",
            "           1       0.59      0.16      0.25      5449\n",
            "\n",
            "    accuracy                           0.75     20661\n",
            "   macro avg       0.68      0.56      0.55     20661\n",
            "weighted avg       0.72      0.75      0.69     20661\n",
            "\n"
          ]
        }
      ],
      "source": [
        "y_pred = man_lstm_model.predict(x_test)\n",
        "y_pred_1hot = [0 if x < 0.5 else 1 for x in y_pred]\n",
        "y_test_1hot = [0 if not x else 1 for x in y_test]\n",
        "print(classification_report(y_test_1hot, y_pred_1hot))"
      ]
    },
    {
      "cell_type": "code",
      "execution_count": 54,
      "metadata": {},
      "outputs": [
        {
          "name": "stdout",
          "output_type": "stream",
          "text": [
            "0.45\n",
            "              precision    recall  f1-score   support\n",
            "\n",
            "           0       0.78      0.92      0.84     15212\n",
            "           1       0.56      0.29      0.38      5449\n",
            "\n",
            "    accuracy                           0.75     20661\n",
            "   macro avg       0.67      0.60      0.61     20661\n",
            "weighted avg       0.72      0.75      0.72     20661\n",
            "\n",
            "0.40\n",
            "              precision    recall  f1-score   support\n",
            "\n",
            "           0       0.81      0.86      0.83     15212\n",
            "           1       0.52      0.42      0.46      5449\n",
            "\n",
            "    accuracy                           0.74     20661\n",
            "   macro avg       0.66      0.64      0.65     20661\n",
            "weighted avg       0.73      0.74      0.74     20661\n",
            "\n",
            "0.37\n",
            "              precision    recall  f1-score   support\n",
            "\n",
            "           0       0.82      0.83      0.82     15212\n",
            "           1       0.51      0.49      0.50      5449\n",
            "\n",
            "    accuracy                           0.74     20661\n",
            "   macro avg       0.66      0.66      0.66     20661\n",
            "weighted avg       0.74      0.74      0.74     20661\n",
            "\n",
            "0.35\n",
            "              precision    recall  f1-score   support\n",
            "\n",
            "           0       0.83      0.80      0.82     15212\n",
            "           1       0.49      0.53      0.51      5449\n",
            "\n",
            "    accuracy                           0.73     20661\n",
            "   macro avg       0.66      0.67      0.66     20661\n",
            "weighted avg       0.74      0.73      0.74     20661\n",
            "\n",
            "0.33\n",
            "              precision    recall  f1-score   support\n",
            "\n",
            "           0       0.84      0.78      0.81     15212\n",
            "           1       0.48      0.57      0.52      5449\n",
            "\n",
            "    accuracy                           0.72     20661\n",
            "   macro avg       0.66      0.68      0.66     20661\n",
            "weighted avg       0.74      0.72      0.73     20661\n",
            "\n"
          ]
        }
      ],
      "source": [
        "y_pred_1hot = [0 if x < 0.45 else 1 for x in y_pred]\n",
        "print(\"0.45\")\n",
        "print(classification_report(y_test_1hot, y_pred_1hot))\n",
        "y_pred_1hot = [0 if x < 0.40 else 1 for x in y_pred]\n",
        "print(\"0.40\")\n",
        "print(classification_report(y_test_1hot, y_pred_1hot))\n",
        "y_pred_1hot = [0 if x < 0.37 else 1 for x in y_pred]\n",
        "print(\"0.37\")\n",
        "print(classification_report(y_test_1hot, y_pred_1hot))\n",
        "y_pred_1hot = [0 if x < 0.35 else 1 for x in y_pred]\n",
        "print(\"0.35\")\n",
        "print(classification_report(y_test_1hot, y_pred_1hot))\n",
        "y_pred_1hot = [0 if x < 0.33 else 1 for x in y_pred]\n",
        "print(\"0.33\")\n",
        "print(classification_report(y_test_1hot, y_pred_1hot))"
      ]
    },
    {
      "cell_type": "code",
      "execution_count": 55,
      "metadata": {
        "_kg_hide-output": true,
        "id": "veOeCzlQ7cY8"
      },
      "outputs": [],
      "source": [
        "def word_to_sequence(tokens: list) -> list:\n",
        "  result = list()\n",
        "  stops = set(stopwords.words('english'))\n",
        "  for token in tokens:\n",
        "    if token in stops:\n",
        "      continue\n",
        "    if token in vocab:\n",
        "      result.append(word_to_id[token])\n",
        "  return result\n",
        "\n",
        "def get_spoiler_prob(synopsis, review) -> float:\n",
        "  #pd.DataFrame({'synopsis': [synopsis], 'review': [review]})\n",
        "  # print('synop')\n",
        "  s_tokens = text_to_word_list(synopsis)\n",
        "  s_seq = pad_sequences([word_to_sequence(s_tokens)], maxlen=max_len)\n",
        "  # print('review')\n",
        "  r_tokens = text_to_word_list(review)\n",
        "  r_seq = pad_sequences([word_to_sequence(r_tokens)], maxlen=max_len)\n",
        "  y_pred = man_lstm_model.predict([s_seq, r_seq])\n",
        "  return y_pred[0]"
      ]
    },
    {
      "cell_type": "code",
      "execution_count": 56,
      "metadata": {
        "id": "ySycHRQldQ9p"
      },
      "outputs": [
        {
          "name": "stdout",
          "output_type": "stream",
          "text": [
            "1/1 [==============================] - 0s 64ms/step\n",
            "synopsis: Jack Ryan (Ford) is on a \"working vacation\" in London with his family. He has retired from the CIA and is a Professor at the US Naval Academy. He is seen delivering a lecture at the Royal Naval Academy in London.Meanwhile, Ryan's wife Cathy and daughter Sally are sightseeing near Buckingham Palace. Sally and Cathy come upon a British Royal Guard, and Sally tries to get the guard to react by doing an improvised tap dance in front of him. She's impressed when the guard, trained to ignore distraction, doesn't react at all, and they leave.As Sally and Cathy walk away from the guard, en route to rendezvous with Ryan, they walk by a stolen cab, in which sit three Ulster Liberation Army terrorists: Kevin O'Donnell, the driver, as well as Sean Miller (Sean Bean) and his younger brother Patrick. The three are loading bullets into their guns as they prepare to carry out a scheduled ambush on Lord William Holmes, British Secretary of State for Northern Ireland and a distant member of the British Royal Family (the cousin of the Queen Mother). As they finish loading their weapons, another terrorist, Annette, radios to them that Lord Holmes is leaving the palace with his wife and son.As Lord Holmes's car leaves the palace, the terrorists' car falls in line behind him. They follow the car, headed for the ambush point. As they drive, O'Donnell and the Miller brothers don ski masks.Meanwhile, Ryan is about to cross the street to meet with his wife and daughter. He arrives at the same time that Lord Holmes's car is passing through the area.Suddenly, another cab, parked on the side of the road, driven by Annette, pulls out and swerves in front of Lord Holmes's vehicle. Simultaneously, O'Donnell's vehicle swerves to a stop behind the car. The Millers and another accomplice jump out and quickly plant a bomb underneath the chauffeured car's engine. Ryan sees what's going on and hastily gets his family to cover just as the bomb is detonated. Moments later, Sean and another accomplice begin shooting into the car, riddling Lord Holmes's driver and bodyguard with bullet. The onslaught of bullets does not kill Lord Holmes, who is currently using his body to shield his family. Sean marches over to the rear door and orders Lord Holmes out of the car at gunpoint. Ryan, unable to stand being just a bystander, immediately breaks cover, runs up behind Miller, and disarms him. As Ryan grabs Sean's pistol, he gets shot in the left shoulder by another terrorist. He shoots one of the other terrorists in the shoulder. Patrick attempts to flee, but Ryan fatally shoots him in the chest. Seeing two of the royal guards racing towards the scene, the remaining terrorists quickly get back in their cars and drive off, leaving Sean to be captured when the authorities arrive. They retreat back to a warehouse, where they change out license plates.While recovering, Ryan is called to testify against Miller as a witness. Subsequently, Miller is convicted on all charges and sentenced to life in prison. Ryan is awarded the order of Knight Commander of the Victorian Order, and eventually returns to the United States.On the possibility that Miller's ULA comrades might try to liberate him, the authorities take no chances. To that extent, they set up decoy convoys on the day that Miller is to be transferred to Albany Prison on the Isle of Wight. However, someone manages to tip off the ULA as to which convoy is carrying Miller. Miller's motorcade is in transit when it comes to a stop at a drawbridge. The raised bridge, however, is a trap meant to block them in. Moments after the convoy comes to a stop, Miller's comrades attack, using rocket launchers to blow up the cars at the front and rear of the convoy. They then march up to the prison van and order the guards out at gunpoint by taking the bridge operator hostage and threatening to shoot him. One of the guards hesitates and is shot fatally. The other officer and the inspector are pulled out, thrown on the ground and forced to lie on their stomachs. O'Donnell hands Miller a pistol, with which he coldly executes both officers and the bridge operator by shooting them in the backs of their heads. They then depart the scene.Miller and his companions flee on a cargo ship from Britain to Libya, to prepare for their next kidnapping attempt on Lord Holmes. Miller however, cannot shake his anger towards Ryan for killing his younger brother and persuades several members of his entourage to accompany him to the United States on a short mission targeting Ryan and his family.Miller travels to the United States, accompanied by Annette, comrade Ned Clark, and a fourth henchman. Annette and Clark travel to the United States Naval Academy to ambush Ryan as he's leaving work. Ryan notices Clark idling nearby. Clark casually walks away, but Ryan clearly unnerved, then gets even more nervous as he hears a car engine starting. His suspicions are well warranted-as he continues walking down the street, he looks in the reflection of a parked van's rearview door and sees that Clark, and the stolen car driven by Annette, are following him. Ryan pretends not to see them until he's walking past a parked panel truck, at which point he ducks behind the truck. Clark draws a silenced pistol and prepares to corner Ryan, but Ryan attacks him first. Clark quickly gets the upper hand and throws Ryan to the curb. He grabs his pistol and is about to shoot Ryan when he's shot dead himself by a US Marine sentry. Annette quickly drives away in her Jeep. Ryan, realizing that Miller is going to target Cathy and Sally, jumps into his car and drives off.Simultaneously, Miller and the other henchman follow Cathy as she picks up Sally from school, with Miller riding shotgun. They prepare to follow the two, but are temporarily held up by a crossing guard. Once the crossing guard clears, they pursue her to US Highway 50. Ryan tries to frantically call Cathy on his car phone, but she is busy answering phone calls from the hospital. As he's trying to connect with her, Miller and his henchman recklessly weave in and out of traffic to catch up with Cathy. Ryan eventually gets through to Cathy and tells her to get off the highway and find the nearest police station. Unfortunately, just as the call ends, Miller's van comes charging up on her using the left shoulder. Miller moves to the backseat of the van, grabs a submachine gun, and slides open the door. Another car momentarily delays him, but once he has a clear aim, Miller opens fire, spraying Cathy's car with bullets. A multicar pileup ensues as Cathy loses control of her car and crashes head-on into a concrete barrier. Ryan, who has found himself stuck in traffic headed in the other direction, sees the smoke from the crash and realizes the worst.Cathy and Sally are airlifted to a nearby hospital for treatment. Enraged over the near-loss of his family, Ryan decides to go back to work for the CIA, having earlier rejected the appeal of his former superior, Vice Admiral James Greer (James Earl Jones).Ryan's tireless work leads him to conclude that Miller has taken refuge in a training camp, one of many located in Libya. He also determines that a recent new arrival at the camp may be one of O'Donnell's English informants, Dennis Cooley. Ryan makes his recommendations to his superiors at the CIA. Greer invites Jack to a live feed of an SAS strike team attack on the camp. Everyone in the camp is eliminated but unbeknownst to the CIA and Ryan, Miller and his companions have already fled the camp and are on their way to the US to stage their next attack on Lord Holmes.Lord Holmes decides to visit Ryan at his home to formally present his KCVO. With the aid of Lord Holmes' traitorous assistant, Miller's group tracks Holmes to this location, kills the Diplomatic Security Service agents and Maryland state troopers guarding the house, and attempts once more to kidnap Lord Holmes. Ryan leads Holmes and his family to safety while he attempts to lure Miller and his companions away from his home.The FBI Hostage Rescue Teams are scrambled to pick up Holmes. Upon realising that Ryan is leading them away from Holmes, Miller's companions try to persuade Miller to turn around, but an enraged and deranged Miller kills his terrorist companions and continues his pursuit of Ryan. Ryan and Miller fight hand to hand; Miller is killed when Ryan impales him backward on a boat anchor, and his body is obliterated in the subsequent explosion of the craft.Credits roll just after Caroline Ryan learns the gender of the child she is going to have, and before she tells Jack and Sally.\n",
            "review: Sally and Jack are both alive in the end.\n",
            "prob: [8.164781e-09]\n"
          ]
        }
      ],
      "source": [
        "def test_spoiler():\n",
        "  synopsis = \"Jack Ryan (Ford) is on a \\\"working vacation\\\" in London with his family. He has retired from the CIA and is a Professor at the US Naval Academy. He is seen delivering a lecture at the Royal Naval Academy in London.Meanwhile, Ryan's wife Cathy and daughter Sally are sightseeing near Buckingham Palace. Sally and Cathy come upon a British Royal Guard, and Sally tries to get the guard to react by doing an improvised tap dance in front of him. She's impressed when the guard, trained to ignore distraction, doesn't react at all, and they leave.As Sally and Cathy walk away from the guard, en route to rendezvous with Ryan, they walk by a stolen cab, in which sit three Ulster Liberation Army terrorists: Kevin O'Donnell, the driver, as well as Sean Miller (Sean Bean) and his younger brother Patrick. The three are loading bullets into their guns as they prepare to carry out a scheduled ambush on Lord William Holmes, British Secretary of State for Northern Ireland and a distant member of the British Royal Family (the cousin of the Queen Mother). As they finish loading their weapons, another terrorist, Annette, radios to them that Lord Holmes is leaving the palace with his wife and son.As Lord Holmes's car leaves the palace, the terrorists' car falls in line behind him. They follow the car, headed for the ambush point. As they drive, O'Donnell and the Miller brothers don ski masks.Meanwhile, Ryan is about to cross the street to meet with his wife and daughter. He arrives at the same time that Lord Holmes's car is passing through the area.Suddenly, another cab, parked on the side of the road, driven by Annette, pulls out and swerves in front of Lord Holmes's vehicle. Simultaneously, O'Donnell's vehicle swerves to a stop behind the car. The Millers and another accomplice jump out and quickly plant a bomb underneath the chauffeured car's engine. Ryan sees what's going on and hastily gets his family to cover just as the bomb is detonated. Moments later, Sean and another accomplice begin shooting into the car, riddling Lord Holmes's driver and bodyguard with bullet. The onslaught of bullets does not kill Lord Holmes, who is currently using his body to shield his family. Sean marches over to the rear door and orders Lord Holmes out of the car at gunpoint. Ryan, unable to stand being just a bystander, immediately breaks cover, runs up behind Miller, and disarms him. As Ryan grabs Sean's pistol, he gets shot in the left shoulder by another terrorist. He shoots one of the other terrorists in the shoulder. Patrick attempts to flee, but Ryan fatally shoots him in the chest. Seeing two of the royal guards racing towards the scene, the remaining terrorists quickly get back in their cars and drive off, leaving Sean to be captured when the authorities arrive. They retreat back to a warehouse, where they change out license plates.While recovering, Ryan is called to testify against Miller as a witness. Subsequently, Miller is convicted on all charges and sentenced to life in prison. Ryan is awarded the order of Knight Commander of the Victorian Order, and eventually returns to the United States.On the possibility that Miller's ULA comrades might try to liberate him, the authorities take no chances. To that extent, they set up decoy convoys on the day that Miller is to be transferred to Albany Prison on the Isle of Wight. However, someone manages to tip off the ULA as to which convoy is carrying Miller. Miller's motorcade is in transit when it comes to a stop at a drawbridge. The raised bridge, however, is a trap meant to block them in. Moments after the convoy comes to a stop, Miller's comrades attack, using rocket launchers to blow up the cars at the front and rear of the convoy. They then march up to the prison van and order the guards out at gunpoint by taking the bridge operator hostage and threatening to shoot him. One of the guards hesitates and is shot fatally. The other officer and the inspector are pulled out, thrown on the ground and forced to lie on their stomachs. O'Donnell hands Miller a pistol, with which he coldly executes both officers and the bridge operator by shooting them in the backs of their heads. They then depart the scene.Miller and his companions flee on a cargo ship from Britain to Libya, to prepare for their next kidnapping attempt on Lord Holmes. Miller however, cannot shake his anger towards Ryan for killing his younger brother and persuades several members of his entourage to accompany him to the United States on a short mission targeting Ryan and his family.Miller travels to the United States, accompanied by Annette, comrade Ned Clark, and a fourth henchman. Annette and Clark travel to the United States Naval Academy to ambush Ryan as he's leaving work. Ryan notices Clark idling nearby. Clark casually walks away, but Ryan clearly unnerved, then gets even more nervous as he hears a car engine starting. His suspicions are well warranted-as he continues walking down the street, he looks in the reflection of a parked van's rearview door and sees that Clark, and the stolen car driven by Annette, are following him. Ryan pretends not to see them until he's walking past a parked panel truck, at which point he ducks behind the truck. Clark draws a silenced pistol and prepares to corner Ryan, but Ryan attacks him first. Clark quickly gets the upper hand and throws Ryan to the curb. He grabs his pistol and is about to shoot Ryan when he's shot dead himself by a US Marine sentry. Annette quickly drives away in her Jeep. Ryan, realizing that Miller is going to target Cathy and Sally, jumps into his car and drives off.Simultaneously, Miller and the other henchman follow Cathy as she picks up Sally from school, with Miller riding shotgun. They prepare to follow the two, but are temporarily held up by a crossing guard. Once the crossing guard clears, they pursue her to US Highway 50. Ryan tries to frantically call Cathy on his car phone, but she is busy answering phone calls from the hospital. As he's trying to connect with her, Miller and his henchman recklessly weave in and out of traffic to catch up with Cathy. Ryan eventually gets through to Cathy and tells her to get off the highway and find the nearest police station. Unfortunately, just as the call ends, Miller's van comes charging up on her using the left shoulder. Miller moves to the backseat of the van, grabs a submachine gun, and slides open the door. Another car momentarily delays him, but once he has a clear aim, Miller opens fire, spraying Cathy's car with bullets. A multicar pileup ensues as Cathy loses control of her car and crashes head-on into a concrete barrier. Ryan, who has found himself stuck in traffic headed in the other direction, sees the smoke from the crash and realizes the worst.Cathy and Sally are airlifted to a nearby hospital for treatment. Enraged over the near-loss of his family, Ryan decides to go back to work for the CIA, having earlier rejected the appeal of his former superior, Vice Admiral James Greer (James Earl Jones).Ryan's tireless work leads him to conclude that Miller has taken refuge in a training camp, one of many located in Libya. He also determines that a recent new arrival at the camp may be one of O'Donnell's English informants, Dennis Cooley. Ryan makes his recommendations to his superiors at the CIA. Greer invites Jack to a live feed of an SAS strike team attack on the camp. Everyone in the camp is eliminated but unbeknownst to the CIA and Ryan, Miller and his companions have already fled the camp and are on their way to the US to stage their next attack on Lord Holmes.Lord Holmes decides to visit Ryan at his home to formally present his KCVO. With the aid of Lord Holmes' traitorous assistant, Miller's group tracks Holmes to this location, kills the Diplomatic Security Service agents and Maryland state troopers guarding the house, and attempts once more to kidnap Lord Holmes. Ryan leads Holmes and his family to safety while he attempts to lure Miller and his companions away from his home.The FBI Hostage Rescue Teams are scrambled to pick up Holmes. Upon realising that Ryan is leading them away from Holmes, Miller's companions try to persuade Miller to turn around, but an enraged and deranged Miller kills his terrorist companions and continues his pursuit of Ryan. Ryan and Miller fight hand to hand; Miller is killed when Ryan impales him backward on a boat anchor, and his body is obliterated in the subsequent explosion of the craft.Credits roll just after Caroline Ryan learns the gender of the child she is going to have, and before she tells Jack and Sally.\"\n",
        "  review = \"Sally and Jack are both alive in the end.\"\n",
        "  prob = get_spoiler_prob(synopsis, review)\n",
        "  print(f\"synopsis: {synopsis}\")\n",
        "  print(f\"review: {review}\")\n",
        "  print(f\"prob: {prob}\")\n",
        "\n",
        "test_spoiler()"
      ]
    },
    {
      "cell_type": "code",
      "execution_count": null,
      "metadata": {
        "id": "kR1qdRZ5ehcM"
      },
      "outputs": [
        {
          "data": {
            "text/plain": [
              "140069"
            ]
          },
          "execution_count": 35,
          "metadata": {},
          "output_type": "execute_result"
        }
      ],
      "source": [
        "vocab_size"
      ]
    },
    {
      "cell_type": "code",
      "execution_count": null,
      "metadata": {},
      "outputs": [],
      "source": []
    }
  ],
  "metadata": {
    "colab": {
      "provenance": []
    },
    "kernelspec": {
      "display_name": "Python 3",
      "language": "python",
      "name": "python3"
    },
    "language_info": {
      "codemirror_mode": {
        "name": "ipython",
        "version": 3
      },
      "file_extension": ".py",
      "mimetype": "text/x-python",
      "name": "python",
      "nbconvert_exporter": "python",
      "pygments_lexer": "ipython3",
      "version": "3.9.16"
    }
  },
  "nbformat": 4,
  "nbformat_minor": 0
}
